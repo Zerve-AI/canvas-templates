{
 "cells": [
  {
   "cell_type": "code",
   "execution_count": null,
   "id": "f085bba0",
   "metadata": {},
   "outputs": [],
   "source": [
    "from bs4 import BeautifulSoup\n",
    "from bs4.formatter import HTMLFormatter"
   ]
  },
  {
   "cell_type": "code",
   "execution_count": null,
   "id": "ba55e68c",
   "metadata": {},
   "outputs": [],
   "source": [
    "markup = '<html><head><body><a href=\"http://example.com/\">I linked to <i>example.com</i></a>'\n",
    "soup = BeautifulSoup(markup, 'html.parser')\n",
    "soup.prettify()\n",
    "# '<html>\\n <head>\\n </head>\\n <body>\\n  <a href=\"http://example.com/\">\\n...'\n",
    "\n",
    "print(soup.prettify())\n",
    "# <html>\n",
    "#  <head>\n",
    "#  </head>\n",
    "#  <body>\n",
    "#   <a href=\"http://example.com/\">\n",
    "#    I linked to\n",
    "#    <i>\n",
    "#     example.com\n",
    "#    </i>\n",
    "#   </a>\n",
    "#  </body>\n",
    "# </html>\n",
    "\n"
   ]
  },
  {
   "cell_type": "code",
   "execution_count": null,
   "id": "8674ab30",
   "metadata": {},
   "outputs": [],
   "source": [
    "print(soup.a.prettify())\n",
    "# <a href=\"http://example.com/\">\n",
    "#  I linked to\n",
    "#  <i>\n",
    "#   example.com\n",
    "#  </i>\n",
    "# </a>\n",
    "\n"
   ]
  },
  {
   "cell_type": "code",
   "execution_count": null,
   "id": "56ec7022",
   "metadata": {},
   "outputs": [],
   "source": [
    "str(soup)\n",
    "# '<html><head></head><body><a href=\"http://example.com/\">I linked to <i>example.com</i></a></body></html>'\n",
    "\n",
    "str(soup.a)\n",
    "# '<a href=\"http://example.com/\">I linked to <i>example.com</i></a>'\n",
    "\n"
   ]
  },
  {
   "cell_type": "code",
   "execution_count": null,
   "id": "728a3dca",
   "metadata": {},
   "outputs": [],
   "source": [
    "soup = BeautifulSoup(\"&ldquo;Dammit!&rdquo; he said.\", 'html.parser')\n",
    "str(soup)\n",
    "# '“Dammit!” he said.'\n",
    "\n"
   ]
  },
  {
   "cell_type": "code",
   "execution_count": null,
   "id": "4442fc6d",
   "metadata": {},
   "outputs": [],
   "source": [
    "soup.encode(\"utf8\")\n",
    "# b'\\xe2\\x80\\x9cDammit!\\xe2\\x80\\x9d he said.'\n",
    "\n"
   ]
  },
  {
   "cell_type": "code",
   "execution_count": null,
   "id": "ccf4f6fa",
   "metadata": {},
   "outputs": [],
   "source": [
    "soup = BeautifulSoup(\"<p>The law firm of Dewey, Cheatem, & Howe</p>\", 'html.parser')\n",
    "soup.p\n",
    "# <p>The law firm of Dewey, Cheatem, &amp; Howe</p>\n",
    "\n",
    "soup = BeautifulSoup('<a href=\"http://example.com/?foo=val1&bar=val2\">A link</a>', 'html.parser')\n",
    "soup.a\n",
    "# <a href=\"http://example.com/?foo=val1&amp;bar=val2\">A link</a>\n",
    "\n"
   ]
  },
  {
   "cell_type": "code",
   "execution_count": null,
   "id": "95c15fa7",
   "metadata": {},
   "outputs": [],
   "source": [
    "french = \"<p>Il a dit &lt;&lt;Sacr&eacute; bleu!&gt;&gt;</p>\"\n",
    "soup = BeautifulSoup(french, 'html.parser')\n",
    "print(soup.prettify(formatter=\"minimal\"))\n",
    "# <p>\n",
    "#  Il a dit &lt;&lt;Sacré bleu!&gt;&gt;\n",
    "# </p>\n",
    "\n"
   ]
  },
  {
   "cell_type": "code",
   "execution_count": null,
   "id": "1a842c56",
   "metadata": {},
   "outputs": [],
   "source": [
    "print(soup.prettify(formatter=\"html\"))\n",
    "# <p>\n",
    "#  Il a dit &lt;&lt;Sacr&eacute; bleu!&gt;&gt;\n",
    "# </p>\n",
    "\n"
   ]
  },
  {
   "cell_type": "code",
   "execution_count": null,
   "id": "62230d8a",
   "metadata": {},
   "outputs": [],
   "source": [
    "br = BeautifulSoup(\"<br>\", 'html.parser').br\n",
    "\n",
    "print(br.encode(formatter=\"html\"))\n",
    "# b'<br/>'\n",
    "\n",
    "print(br.encode(formatter=\"html5\"))\n",
    "# b'<br>'\n",
    "\n"
   ]
  },
  {
   "cell_type": "code",
   "execution_count": null,
   "id": "cb67f309",
   "metadata": {},
   "outputs": [],
   "source": [
    "option = BeautifulSoup('<option selected=\"\"></option>').option\n",
    "print(option.encode(formatter=\"html\"))\n",
    "# b'<option selected=\"\"></option>'\n",
    "\n",
    "print(option.encode(formatter=\"html5\"))\n",
    "# b'<option selected></option>'\n",
    "\n"
   ]
  },
  {
   "cell_type": "code",
   "execution_count": null,
   "id": "2a6363f4",
   "metadata": {},
   "outputs": [],
   "source": [
    "print(soup.prettify(formatter=None))\n",
    "# <p>\n",
    "#  Il a dit <<Sacré bleu!>>\n",
    "# </p>\n",
    "\n",
    "link_soup = BeautifulSoup('<a href=\"http://example.com/?foo=val1&bar=val2\">A link</a>', 'html.parser')\n",
    "print(link_soup.a.encode(formatter=None))\n",
    "# b'<a href=\"http://example.com/?foo=val1&bar=val2\">A link</a>'\n",
    "\n"
   ]
  },
  {
   "cell_type": "code",
   "execution_count": null,
   "id": "56e41f05",
   "metadata": {},
   "outputs": [],
   "source": [
    "from bs4.formatter import HTMLFormatter\n",
    "def uppercase(str):\n",
    "    return str.upper()\n",
    "\n",
    "formatter = HTMLFormatter(uppercase)\n",
    "\n",
    "print(soup.prettify(formatter=formatter))\n",
    "# <p>\n",
    "#  IL A DIT <<SACRÉ BLEU!>>\n",
    "# </p>\n",
    "\n",
    "print(link_soup.a.prettify(formatter=formatter))\n",
    "# <a href=\"HTTP://EXAMPLE.COM/?FOO=VAL1&BAR=VAL2\">\n",
    "#  A LINK\n",
    "# </a>\n",
    "\n"
   ]
  },
  {
   "cell_type": "code",
   "execution_count": null,
   "id": "60ab7ce4",
   "metadata": {},
   "outputs": [],
   "source": [
    "formatter = HTMLFormatter()\n",
    "print(link_soup.a.prettify(formatter=formatter))\n",
    "# <a href=\"http://example.com/?foo=val1&bar=val2\">\n",
    "#         A link\n",
    "# </a>\n",
    "\n"
   ]
  },
  {
   "cell_type": "code",
   "execution_count": null,
   "id": "a14216bc",
   "metadata": {},
   "outputs": [],
   "source": [
    "attr_soup = BeautifulSoup(b'<p z=\"1\" m=\"2\" a=\"3\"></p>', 'html.parser')\n",
    "print(attr_soup.p.encode())\n",
    "# <p a=\"3\" m=\"2\" z=\"1\"></p>\n",
    "\n"
   ]
  },
  {
   "cell_type": "code",
   "execution_count": null,
   "id": "9a95c716",
   "metadata": {},
   "outputs": [],
   "source": [
    "class UnsortedAttributes(HTMLFormatter):\n",
    "    def attributes(self, tag):\n",
    "        for k, v in tag.attrs.items():\n",
    "            if k == 'm':\n",
    "                continue\n",
    "            yield k, v\n",
    "\n",
    "print(attr_soup.p.encode(formatter=UnsortedAttributes()))\n",
    "# <p z=\"1\" a=\"3\"></p>\n",
    "\n"
   ]
  },
  {
   "cell_type": "code",
   "execution_count": null,
   "id": "e4451180",
   "metadata": {},
   "outputs": [],
   "source": [
    "from bs4.element import CData\n",
    "soup = BeautifulSoup(\"<a></a>\", 'html.parser')\n",
    "soup.a.string = CData(\"one < three\")\n",
    "print(soup.a.prettify(formatter=\"html\"))\n",
    "# <a>\n",
    "#  <![CDATA[one < three]]>\n",
    "# </a>\n",
    "\n"
   ]
  },
  {
   "cell_type": "code",
   "execution_count": null,
   "id": "86c9dddf",
   "metadata": {},
   "outputs": [],
   "source": [
    "markup = '<a href=\"http://example.com/\">\\nI linked to <i>example.com</i>\\n</a>'\n",
    "soup = BeautifulSoup(markup, 'html.parser')\n",
    "\n",
    "soup.get_text()\n",
    "'\\nI linked to example.com\\n'\n",
    "soup.i.get_text()\n",
    "'example.com'\n",
    "\n"
   ]
  },
  {
   "cell_type": "code",
   "execution_count": null,
   "id": "53784330",
   "metadata": {},
   "outputs": [],
   "source": [
    "# soup.get_text(\"|\")\n",
    "'\\nI linked to |example.com|\\n'\n",
    "\n"
   ]
  },
  {
   "cell_type": "code",
   "execution_count": null,
   "id": "28dec417",
   "metadata": {},
   "outputs": [],
   "source": [
    "# soup.get_text(\"|\", strip=True)\n",
    "'I linked to|example.com'\n",
    "\n"
   ]
  },
  {
   "cell_type": "code",
   "execution_count": null,
   "id": "69454804",
   "metadata": {},
   "outputs": [],
   "source": [
    "[text for text in soup.stripped_strings]\n",
    "# ['I linked to', 'example.com']\n",
    "\n"
   ]
  }
 ],
 "metadata": {
  "language_info": {
   "name": "python"
  }
 },
 "nbformat": 4,
 "nbformat_minor": 5
}
