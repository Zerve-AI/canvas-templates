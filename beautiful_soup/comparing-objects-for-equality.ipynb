{
 "cells": [
  {
   "cell_type": "code",
   "execution_count": null,
   "id": "5da9bd81",
   "metadata": {},
   "outputs": [],
   "source": [
    "from bs4 import BeautifulSoup"
   ]
  },
  {
   "cell_type": "code",
   "execution_count": null,
   "id": "d9b04a6f",
   "metadata": {},
   "outputs": [],
   "source": [
    "markup = \"<p>I want <b>pizza</b> and more <b>pizza</b>!</p>\"\n",
    "soup = BeautifulSoup(markup, 'html.parser')\n",
    "first_b, second_b = soup.find_all('b')\n",
    "print(first_b == second_b)\n",
    "# True\n",
    "\n",
    "print(first_b.previous_element == second_b.previous_element)\n",
    "# False\n",
    "\n"
   ]
  },
  {
   "cell_type": "code",
   "execution_count": null,
   "id": "8dc09e5c",
   "metadata": {},
   "outputs": [],
   "source": [
    "print(first_b is second_b)\n",
    "# False\n",
    "\n"
   ]
  },
  {
   "cell_type": "code",
   "execution_count": null,
   "id": "49738bd1",
   "metadata": {},
   "outputs": [],
   "source": [
    "import copy\n",
    "p_copy = copy.copy(soup.p)\n",
    "print(p_copy)\n",
    "# <p>I want <b>pizza</b> and more <b>pizza</b>!</p>\n"
   ]
  },
  {
   "cell_type": "code",
   "execution_count": null,
   "id": "a82ee511",
   "metadata": {},
   "outputs": [],
   "source": [
    "print(soup.p == p_copy)\n",
    "# True\n",
    "\n",
    "print(soup.p is p_copy)\n",
    "# False"
   ]
  },
  {
   "cell_type": "code",
   "execution_count": null,
   "id": "e72e2490",
   "metadata": {},
   "outputs": [],
   "source": [
    "print(p_copy.parent)\n",
    "# None\n"
   ]
  }
 ],
 "metadata": {
  "language_info": {
   "name": "python"
  }
 },
 "nbformat": 4,
 "nbformat_minor": 5
}
