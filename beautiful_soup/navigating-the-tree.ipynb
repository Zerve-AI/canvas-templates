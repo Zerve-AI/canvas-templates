{
 "cells": [
  {
   "cell_type": "code",
   "execution_count": null,
   "id": "2a7e5e20",
   "metadata": {},
   "outputs": [],
   "source": [
    "from bs4 import BeautifulSoup"
   ]
  },
  {
   "cell_type": "code",
   "execution_count": null,
   "id": "a7d3bd47",
   "metadata": {},
   "outputs": [],
   "source": [
    "html_doc = \"\"\"\n",
    "<html><head><title>The Dormouse's story</title></head>\n",
    "<body>\n",
    "<p class=\"title\"><b>The Dormouse's story</b></p>\n",
    "\n",
    "<p class=\"story\">Once upon a time there were three little sisters; and their names were\n",
    "<a href=\"http://example.com/elsie\" class=\"sister\" id=\"link1\">Elsie</a>,\n",
    "<a href=\"http://example.com/lacie\" class=\"sister\" id=\"link2\">Lacie</a> and\n",
    "<a href=\"http://example.com/tillie\" class=\"sister\" id=\"link3\">Tillie</a>;\n",
    "and they lived at the bottom of a well.</p>\n",
    "\n",
    "<p class=\"story\">...</p>\n",
    "\"\"\"\n",
    "\n",
    "from bs4 import BeautifulSoup\n",
    "soup = BeautifulSoup(html_doc, 'html.parser')\n",
    "\n"
   ]
  },
  {
   "cell_type": "code",
   "execution_count": null,
   "id": "c78f4492",
   "metadata": {},
   "outputs": [],
   "source": [
    "soup.head\n",
    "# <head><title>The Dormouse's story</title></head>\n",
    "\n",
    "soup.title\n",
    "# <title>The Dormouse's story</title>\n",
    "\n"
   ]
  },
  {
   "cell_type": "code",
   "execution_count": null,
   "id": "583ac850",
   "metadata": {},
   "outputs": [],
   "source": [
    "soup.body.b\n",
    "# <b>The Dormouse's story</b>\n",
    "\n"
   ]
  },
  {
   "cell_type": "code",
   "execution_count": null,
   "id": "30dab895",
   "metadata": {},
   "outputs": [],
   "source": [
    "soup.a\n",
    "# <a class=\"sister\" href=\"http://example.com/elsie\" id=\"link1\">Elsie</a>\n",
    "\n"
   ]
  },
  {
   "cell_type": "code",
   "execution_count": null,
   "id": "8cc414d2",
   "metadata": {},
   "outputs": [],
   "source": [
    "soup.find_all('a')\n",
    "# [<a class=\"sister\" href=\"http://example.com/elsie\" id=\"link1\">Elsie</a>,\n",
    "#  <a class=\"sister\" href=\"http://example.com/lacie\" id=\"link2\">Lacie</a>,\n",
    "#  <a class=\"sister\" href=\"http://example.com/tillie\" id=\"link3\">Tillie</a>]\n",
    "\n"
   ]
  },
  {
   "cell_type": "code",
   "execution_count": null,
   "id": "b592489f",
   "metadata": {},
   "outputs": [],
   "source": [
    "head_tag = soup.head\n",
    "head_tag\n",
    "# <head><title>The Dormouse's story</title></head>\n",
    "\n",
    "head_tag.contents\n",
    "# [<title>The Dormouse's story</title>]\n",
    "\n",
    "title_tag = head_tag.contents[0]\n",
    "title_tag\n",
    "# <title>The Dormouse's story</title>\n",
    "title_tag.contents\n",
    "# ['The Dormouse's story']\n",
    "\n"
   ]
  },
  {
   "cell_type": "code",
   "execution_count": null,
   "id": "bd107ef6",
   "metadata": {},
   "outputs": [],
   "source": [
    "len(soup.contents)\n",
    "# 1\n",
    "soup.contents[0].name\n",
    "# 'html'\n",
    "\n"
   ]
  },
  {
   "cell_type": "code",
   "execution_count": null,
   "id": "b9b3abaf",
   "metadata": {},
   "outputs": [],
   "source": [
    "text = title_tag.contents[0]\n",
    "print(text)\n",
    "# AttributeError: 'NavigableString' object has no attribute 'contents'\n",
    "\n"
   ]
  },
  {
   "cell_type": "code",
   "execution_count": null,
   "id": "80ca7592",
   "metadata": {},
   "outputs": [],
   "source": [
    "for child in title_tag.children:\n",
    "    print(child)\n",
    "# The Dormouse's story\n",
    "\n"
   ]
  },
  {
   "cell_type": "code",
   "execution_count": null,
   "id": "dd3cdee6",
   "metadata": {},
   "outputs": [],
   "source": [
    "head_tag.contents\n",
    "# [<title>The Dormouse's story</title>]\n",
    "\n"
   ]
  },
  {
   "cell_type": "code",
   "execution_count": null,
   "id": "9305f37a",
   "metadata": {},
   "outputs": [],
   "source": [
    "for child in head_tag.descendants:\n",
    "    print(child)\n",
    "# <title>The Dormouse's story</title>\n",
    "# The Dormouse's story\n",
    "\n"
   ]
  },
  {
   "cell_type": "code",
   "execution_count": null,
   "id": "93aa608e",
   "metadata": {},
   "outputs": [],
   "source": [
    "len(list(soup.children))\n",
    "# 1\n",
    "len(list(soup.descendants))\n",
    "# 26\n",
    "\n"
   ]
  },
  {
   "cell_type": "code",
   "execution_count": null,
   "id": "5cb93012",
   "metadata": {},
   "outputs": [],
   "source": [
    "title_tag.string\n",
    "# 'The Dormouse's story'\n",
    "\n"
   ]
  },
  {
   "cell_type": "code",
   "execution_count": null,
   "id": "3c459aa8",
   "metadata": {},
   "outputs": [],
   "source": [
    "head_tag.contents\n",
    "# [<title>The Dormouse's story</title>]\n",
    "\n",
    "head_tag.string\n",
    "# 'The Dormouse's story'\n",
    "\n"
   ]
  },
  {
   "cell_type": "code",
   "execution_count": null,
   "id": "bd3d0ac3",
   "metadata": {},
   "outputs": [],
   "source": [
    "print(soup.html.string)\n",
    "# None\n",
    "\n"
   ]
  },
  {
   "cell_type": "code",
   "execution_count": null,
   "id": "5cef2132",
   "metadata": {},
   "outputs": [],
   "source": [
    "for string in soup.strings:\n",
    "    print(repr(string))\n",
    "    '\\n'\n",
    "# \"The Dormouse's story\"\n",
    "# '\\n'\n",
    "# '\\n'\n",
    "# \"The Dormouse's story\"\n",
    "# '\\n'\n",
    "# 'Once upon a time there were three little sisters; and their names were\\n'\n",
    "# 'Elsie'\n",
    "# ',\\n'\n",
    "# 'Lacie'\n",
    "# ' and\\n'\n",
    "# 'Tillie'\n",
    "# ';\\nand they lived at the bottom of a well.'\n",
    "# '\\n'\n",
    "# '...'\n",
    "# '\\n'\n",
    "\n"
   ]
  },
  {
   "cell_type": "code",
   "execution_count": null,
   "id": "b54655b4",
   "metadata": {},
   "outputs": [],
   "source": [
    "for string in soup.stripped_strings:\n",
    "    print(repr(string))\n",
    "# \"The Dormouse's story\"\n",
    "# \"The Dormouse's story\"\n",
    "# 'Once upon a time there were three little sisters; and their names were'\n",
    "# 'Elsie'\n",
    "# ','\n",
    "# 'Lacie'\n",
    "# 'and'\n",
    "# 'Tillie'\n",
    "# ';\\n and they lived at the bottom of a well.'\n",
    "# '...'\n",
    "\n"
   ]
  },
  {
   "cell_type": "code",
   "execution_count": null,
   "id": "862c830b",
   "metadata": {},
   "outputs": [],
   "source": [
    "title_tag = soup.title\n",
    "title_tag\n",
    "# <title>The Dormouse's story</title>\n",
    "title_tag.parent\n",
    "# <head><title>The Dormouse's story</title></head>\n",
    "\n"
   ]
  },
  {
   "cell_type": "code",
   "execution_count": null,
   "id": "9e08e70b",
   "metadata": {},
   "outputs": [],
   "source": [
    "title_tag.string.parent\n",
    "# <title>The Dormouse's story</title>\n",
    "\n"
   ]
  },
  {
   "cell_type": "code",
   "execution_count": null,
   "id": "b8a179fc",
   "metadata": {},
   "outputs": [],
   "source": [
    "html_tag = soup.html\n",
    "type(html_tag.parent)\n",
    "# <class 'bs4.BeautifulSoup'>\n",
    "\n"
   ]
  },
  {
   "cell_type": "code",
   "execution_count": null,
   "id": "8e86f696",
   "metadata": {},
   "outputs": [],
   "source": [
    "print(soup.parent)\n",
    "# None\n",
    "\n"
   ]
  },
  {
   "cell_type": "code",
   "execution_count": null,
   "id": "5a539d3b",
   "metadata": {},
   "outputs": [],
   "source": [
    "link = soup.a\n",
    "link\n",
    "# <a class=\"sister\" href=\"http://example.com/elsie\" id=\"link1\">Elsie</a>\n",
    "for parent in link.parents:\n",
    "    print(parent.name)\n",
    "# p\n",
    "# body\n",
    "# html\n",
    "# [document]\n",
    "\n"
   ]
  },
  {
   "cell_type": "code",
   "execution_count": null,
   "id": "257cef92",
   "metadata": {},
   "outputs": [],
   "source": [
    "sibling_soup = BeautifulSoup(\"<a><b>text1</b><c>text2</c></a>\", 'html.parser')\n",
    "print(sibling_soup.prettify())\n",
    "#   <a>\n",
    "#    <b>\n",
    "#     text1\n",
    "#    </b>\n",
    "#    <c>\n",
    "#     text2\n",
    "#    </c>\n",
    "#   </a>\n",
    "\n"
   ]
  },
  {
   "cell_type": "code",
   "execution_count": null,
   "id": "2593210d",
   "metadata": {},
   "outputs": [],
   "source": [
    "sibling_soup.b.next_sibling\n",
    "# <c>text2</c>\n",
    "\n",
    "sibling_soup.c.previous_sibling\n",
    "# <b>text1</b>\n",
    "\n"
   ]
  },
  {
   "cell_type": "code",
   "execution_count": null,
   "id": "041e367e",
   "metadata": {},
   "outputs": [],
   "source": [
    "print(sibling_soup.b.previous_sibling)\n",
    "# None\n",
    "print(sibling_soup.c.next_sibling)\n",
    "# None\n",
    "\n"
   ]
  },
  {
   "cell_type": "code",
   "execution_count": null,
   "id": "0054c29a",
   "metadata": {},
   "outputs": [],
   "source": [
    "sibling_soup.b.string\n",
    "# 'text1'\n",
    "\n",
    "print(sibling_soup.b.string.next_sibling)\n",
    "# None\n",
    "\n"
   ]
  },
  {
   "cell_type": "code",
   "execution_count": null,
   "id": "2d51da4a",
   "metadata": {},
   "outputs": [],
   "source": [
    "# <a href=\"http://example.com/elsie\" class=\"sister\" id=\"link1\">Elsie</a>,\n",
    "# <a href=\"http://example.com/lacie\" class=\"sister\" id=\"link2\">Lacie</a> and\n",
    "# <a href=\"http://example.com/tillie\" class=\"sister\" id=\"link3\">Tillie</a>;\n",
    "\n"
   ]
  },
  {
   "cell_type": "code",
   "execution_count": null,
   "id": "6437e187",
   "metadata": {},
   "outputs": [],
   "source": [
    "link = soup.a\n",
    "link\n",
    "# <a class=\"sister\" href=\"http://example.com/elsie\" id=\"link1\">Elsie</a>\n",
    "\n",
    "link.next_sibling\n",
    "# ',\\n '\n",
    "\n"
   ]
  },
  {
   "cell_type": "code",
   "execution_count": null,
   "id": "78bd7707",
   "metadata": {},
   "outputs": [],
   "source": [
    "link.next_sibling.next_sibling\n",
    "# <a class=\"sister\" href=\"http://example.com/lacie\" id=\"link2\">Lacie</a>\n",
    "\n"
   ]
  },
  {
   "cell_type": "code",
   "execution_count": null,
   "id": "8eca2fb5",
   "metadata": {},
   "outputs": [],
   "source": [
    "for sibling in soup.a.next_siblings:\n",
    "    print(repr(sibling))\n",
    "# ',\\n'\n",
    "# <a class=\"sister\" href=\"http://example.com/lacie\" id=\"link2\">Lacie</a>\n",
    "# ' and\\n'\n",
    "# <a class=\"sister\" href=\"http://example.com/tillie\" id=\"link3\">Tillie</a>\n",
    "# '; and they lived at the bottom of a well.'\n",
    "\n",
    "for sibling in soup.find(id=\"link3\").previous_siblings:\n",
    "    print(repr(sibling))\n",
    "# ' and\\n'\n",
    "# <a class=\"sister\" href=\"http://example.com/lacie\" id=\"link2\">Lacie</a>\n",
    "# ',\\n'\n",
    "# <a class=\"sister\" href=\"http://example.com/elsie\" id=\"link1\">Elsie</a>\n",
    "# 'Once upon a time there were three little sisters; and their names were\\n'\n",
    "\n"
   ]
  },
  {
   "cell_type": "code",
   "execution_count": null,
   "id": "2699847e",
   "metadata": {},
   "outputs": [],
   "source": [
    "# <html><head><title>The Dormouse's story</title></head>\n",
    "# <p class=\"title\"><b>The Dormouse's story</b></p>\n",
    "\n"
   ]
  },
  {
   "cell_type": "code",
   "execution_count": null,
   "id": "3b860ac2",
   "metadata": {},
   "outputs": [],
   "source": [
    "last_a_tag = soup.find(\"a\", id=\"link3\")\n",
    "last_a_tag\n",
    "# <a class=\"sister\" href=\"http://example.com/tillie\" id=\"link3\">Tillie</a>\n",
    "\n",
    "last_a_tag.next_sibling\n",
    "# ';\\nand they lived at the bottom of a well.'\n",
    "\n"
   ]
  },
  {
   "cell_type": "code",
   "execution_count": null,
   "id": "65e7b7bc",
   "metadata": {},
   "outputs": [],
   "source": [
    "last_a_tag.next_element\n",
    "# 'Tillie'\n",
    "\n"
   ]
  },
  {
   "cell_type": "code",
   "execution_count": null,
   "id": "d6d2de23",
   "metadata": {},
   "outputs": [],
   "source": [
    "last_a_tag.previous_element\n",
    "# ' and\\n'\n",
    "last_a_tag.previous_element.next_element\n",
    "# <a class=\"sister\" href=\"http://example.com/tillie\" id=\"link3\">Tillie</a>\n",
    "\n"
   ]
  },
  {
   "cell_type": "code",
   "execution_count": null,
   "id": "50995e69",
   "metadata": {},
   "outputs": [],
   "source": [
    "for element in last_a_tag.next_elements:\n",
    "    print(repr(element))\n",
    "# 'Tillie'\n",
    "# ';\\nand they lived at the bottom of a well.'\n",
    "# '\\n'\n",
    "# <p class=\"story\">...</p>\n",
    "# '...'\n",
    "# '\\n'\n",
    "\n"
   ]
  }
 ],
 "metadata": {
  "language_info": {
   "name": "python"
  }
 },
 "nbformat": 4,
 "nbformat_minor": 5
}
