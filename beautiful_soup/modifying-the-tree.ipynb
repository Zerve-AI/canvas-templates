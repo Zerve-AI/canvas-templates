{
 "cells": [
  {
   "cell_type": "code",
   "execution_count": null,
   "id": "8b0f6ad0",
   "metadata": {},
   "outputs": [],
   "source": [
    "from bs4 import BeautifulSoup\n",
    "from bs4 import NavigableString \n",
    "from bs4 import Comment"
   ]
  },
  {
   "cell_type": "code",
   "execution_count": null,
   "id": "531d7e7f",
   "metadata": {},
   "outputs": [],
   "source": [
    "soup = BeautifulSoup('<b class=\"boldest\">Extremely bold</b>', 'html.parser')\n",
    "tag = soup.b\n",
    "\n",
    "tag.name = \"blockquote\"\n",
    "tag['class'] = 'verybold'\n",
    "tag['id'] = 1\n",
    "tag\n",
    "# <blockquote class=\"verybold\" id=\"1\">Extremely bold</blockquote>\n",
    "\n",
    "del tag['class']\n",
    "del tag['id']\n",
    "tag\n",
    "# <blockquote>Extremely bold</blockquote>\n",
    "\n"
   ]
  },
  {
   "cell_type": "code",
   "execution_count": null,
   "id": "3adeb9fb",
   "metadata": {},
   "outputs": [],
   "source": [
    "markup = '<a href=\"http://example.com/\">I linked to <i>example.com</i></a>'\n",
    "soup = BeautifulSoup(markup, 'html.parser')\n",
    "\n",
    "tag = soup.a\n",
    "tag.string = \"New link text.\"\n",
    "tag\n",
    "# <a href=\"http://example.com/\">New link text.</a>\n",
    "\n"
   ]
  },
  {
   "cell_type": "code",
   "execution_count": null,
   "id": "7bfe087e",
   "metadata": {},
   "outputs": [],
   "source": [
    "soup = BeautifulSoup(\"<a>Foo</a>\", 'html.parser')\n",
    "soup.a.append(\"Bar\")\n",
    "\n",
    "soup\n",
    "# <a>FooBar</a>\n",
    "soup.a.contents\n",
    "# ['Foo', 'Bar']\n",
    "\n"
   ]
  },
  {
   "cell_type": "code",
   "execution_count": null,
   "id": "70ef430d",
   "metadata": {},
   "outputs": [],
   "source": [
    "soup = BeautifulSoup(\"<a>Soup</a>\", 'html.parser')\n",
    "soup.a.extend([\"'s\", \" \", \"on\"])\n",
    "\n",
    "soup\n",
    "# <a>Soup's on</a>\n",
    "soup.a.contents\n",
    "# ['Soup', ''s', ' ', 'on']\n",
    "\n"
   ]
  },
  {
   "cell_type": "code",
   "execution_count": null,
   "id": "7f47808b",
   "metadata": {},
   "outputs": [],
   "source": [
    "from bs4 import NavigableString\n",
    "soup = BeautifulSoup(\"<b></b>\", 'html.parser')\n",
    "tag = soup.b\n",
    "tag.append(\"Hello\")\n",
    "new_string = NavigableString(\" there\")\n",
    "tag.append(new_string)\n",
    "tag\n",
    "# <b>Hello there.</b>\n",
    "tag.contents\n",
    "# ['Hello', ' there']\n",
    "\n"
   ]
  },
  {
   "cell_type": "code",
   "execution_count": null,
   "id": "ede62307",
   "metadata": {},
   "outputs": [],
   "source": [
    "from bs4 import Comment\n",
    "new_comment = Comment(\"Nice to see you.\")\n",
    "tag.append(new_comment)\n",
    "tag\n",
    "# <b>Hello there<!--Nice to see you.--></b>\n",
    "tag.contents\n",
    "# ['Hello', ' there', 'Nice to see you.']\n",
    "\n"
   ]
  },
  {
   "cell_type": "code",
   "execution_count": null,
   "id": "a1d21025",
   "metadata": {},
   "outputs": [],
   "source": [
    "soup = BeautifulSoup(\"<b></b>\", 'html.parser')\n",
    "original_tag = soup.b\n",
    "\n",
    "new_tag = soup.new_tag(\"a\", href=\"http://www.example.com\")\n",
    "original_tag.append(new_tag)\n",
    "original_tag\n",
    "# <b><a href=\"http://www.example.com\"></a></b>\n",
    "\n",
    "new_tag.string = \"Link text.\"\n",
    "original_tag\n",
    "# <b><a href=\"http://www.example.com\">Link text.</a></b>\n",
    "\n"
   ]
  },
  {
   "cell_type": "code",
   "execution_count": null,
   "id": "45f04386",
   "metadata": {},
   "outputs": [],
   "source": [
    "markup = '<a href=\"http://example.com/\">I linked to <i>example.com</i></a>'\n",
    "soup = BeautifulSoup(markup, 'html.parser')\n",
    "tag = soup.a\n",
    "\n",
    "tag.insert(1, \"but did not endorse \")\n",
    "tag\n",
    "# <a href=\"http://example.com/\">I linked to but did not endorse <i>example.com</i></a>\n",
    "tag.contents\n",
    "# ['I linked to ', 'but did not endorse', <i>example.com</i>]\n",
    "\n"
   ]
  },
  {
   "cell_type": "code",
   "execution_count": null,
   "id": "89d86483",
   "metadata": {},
   "outputs": [],
   "source": [
    "soup = BeautifulSoup(\"<b>leave</b>\", 'html.parser')\n",
    "tag = soup.new_tag(\"i\")\n",
    "tag.string = \"Don't\"\n",
    "soup.b.string.insert_before(tag)\n",
    "soup.b\n",
    "# <b><i>Don't</i>leave</b>\n",
    "\n"
   ]
  },
  {
   "cell_type": "code",
   "execution_count": null,
   "id": "1fc6d8ee",
   "metadata": {},
   "outputs": [],
   "source": [
    "div = soup.new_tag('div')\n",
    "div.string = 'ever'\n",
    "soup.b.i.insert_after(\" you \", div)\n",
    "soup.b\n",
    "# <b><i>Don't</i> you <div>ever</div> leave</b>\n",
    "soup.b.contents\n",
    "# [<i>Don't</i>, ' you', <div>ever</div>, 'leave']\n",
    "\n"
   ]
  },
  {
   "cell_type": "code",
   "execution_count": null,
   "id": "fb8669c3",
   "metadata": {},
   "outputs": [],
   "source": [
    "markup = '<a href=\"http://example.com/\">I linked to <i>example.com</i></a>'\n",
    "soup = BeautifulSoup(markup, 'html.parser')\n",
    "tag = soup.a\n",
    "\n",
    "tag.clear()\n",
    "tag\n",
    "# <a href=\"http://example.com/\"></a>\n",
    "\n"
   ]
  },
  {
   "cell_type": "code",
   "execution_count": null,
   "id": "6f7cf365",
   "metadata": {},
   "outputs": [],
   "source": [
    "markup = '<a href=\"http://example.com/\">I linked to <i>example.com</i></a>'\n",
    "soup = BeautifulSoup(markup, 'html.parser')\n",
    "a_tag = soup.a\n",
    "\n",
    "i_tag = soup.i.extract()\n",
    "\n",
    "a_tag\n",
    "# <a href=\"http://example.com/\">I linked to</a>\n",
    "\n",
    "i_tag\n",
    "# <i>example.com</i>\n",
    "\n",
    "print(i_tag.parent)\n",
    "# None\n",
    "\n"
   ]
  },
  {
   "cell_type": "code",
   "execution_count": null,
   "id": "fabe3c5f",
   "metadata": {},
   "outputs": [],
   "source": [
    "my_string = i_tag.string.extract()\n",
    "my_string\n",
    "# 'example.com'\n",
    "\n",
    "print(my_string.parent)\n",
    "# None\n",
    "i_tag\n",
    "# <i></i>\n",
    "\n"
   ]
  },
  {
   "cell_type": "code",
   "execution_count": null,
   "id": "fbd0798d",
   "metadata": {},
   "outputs": [],
   "source": [
    "markup = '<a href=\"http://example.com/\">I linked to <i>example.com</i></a>'\n",
    "soup = BeautifulSoup(markup, 'html.parser')\n",
    "a_tag = soup.a\n",
    "i_tag = soup.i\n",
    "\n",
    "i_tag.decompose()\n",
    "a_tag\n",
    "# <a href=\"http://example.com/\">I linked to</a>\n",
    "\n"
   ]
  },
  {
   "cell_type": "code",
   "execution_count": null,
   "id": "81854e3c",
   "metadata": {},
   "outputs": [],
   "source": [
    "i_tag.decomposed\n",
    "# True\n",
    "\n",
    "a_tag.decomposed\n",
    "# False\n",
    "\n"
   ]
  },
  {
   "cell_type": "code",
   "execution_count": null,
   "id": "fbde0db9",
   "metadata": {},
   "outputs": [],
   "source": [
    "markup = '<a href=\"http://example.com/\">I linked to <i>example.com</i></a>'\n",
    "soup = BeautifulSoup(markup, 'html.parser')\n",
    "a_tag = soup.a\n",
    "\n",
    "new_tag = soup.new_tag(\"b\")\n",
    "new_tag.string = \"example.com\"\n",
    "a_tag.i.replace_with(new_tag)\n",
    "\n",
    "a_tag\n",
    "# <a href=\"http://example.com/\">I linked to <b>example.com</b></a>\n",
    "\n",
    "bold_tag = soup.new_tag(\"b\")\n",
    "bold_tag.string = \"example\"\n",
    "i_tag = soup.new_tag(\"i\")\n",
    "i_tag.string = \"net\"\n",
    "a_tag.b.replace_with(bold_tag, \".\", i_tag)\n",
    "\n",
    "a_tag\n",
    "# <a href=\"http://example.com/\">I linked to <b>example</b>.<i>net</i></a>\n",
    "\n"
   ]
  },
  {
   "cell_type": "code",
   "execution_count": null,
   "id": "56d15675",
   "metadata": {},
   "outputs": [],
   "source": [
    "soup = BeautifulSoup(\"<p>I wish I was bold.</p>\", 'html.parser')\n",
    "soup.p.string.wrap(soup.new_tag(\"b\"))\n",
    "# <b>I wish I was bold.</b>\n",
    "\n",
    "soup.p.wrap(soup.new_tag(\"div\"))\n",
    "# <div><p><b>I wish I was bold.</b></p></div>\n",
    "\n"
   ]
  },
  {
   "cell_type": "code",
   "execution_count": null,
   "id": "e5cfce1a",
   "metadata": {},
   "outputs": [],
   "source": [
    "markup = '<a href=\"http://example.com/\">I linked to <i>example.com</i></a>'\n",
    "soup = BeautifulSoup(markup, 'html.parser')\n",
    "a_tag = soup.a\n",
    "\n",
    "a_tag.i.unwrap()\n",
    "a_tag\n",
    "# <a href=\"http://example.com/\">I linked to example.com</a>\n",
    "\n"
   ]
  },
  {
   "cell_type": "code",
   "execution_count": null,
   "id": "a9fdac02",
   "metadata": {},
   "outputs": [],
   "source": [
    "soup = BeautifulSoup(\"<p>A one</p>\", 'html.parser')\n",
    "soup.p.append(\", a two\")\n",
    "\n",
    "soup.p.contents\n",
    "# ['A one', ', a two']\n",
    "\n",
    "print(soup.p.encode())\n",
    "# b'<p>A one, a two</p>'\n",
    "\n",
    "print(soup.p.prettify())\n",
    "# <p>\n",
    "#  A one\n",
    "#  , a two\n",
    "# </p>\n",
    "\n"
   ]
  },
  {
   "cell_type": "code",
   "execution_count": null,
   "id": "419605bb",
   "metadata": {},
   "outputs": [],
   "source": [
    "soup.smooth()\n",
    "\n",
    "soup.p.contents\n",
    "# ['A one, a two']\n",
    "\n",
    "print(soup.p.prettify())\n",
    "# <p>\n",
    "#  A one, a two\n",
    "# </p>\n",
    "\n"
   ]
  }
 ],
 "metadata": {
  "language_info": {
   "name": "python"
  }
 },
 "nbformat": 4,
 "nbformat_minor": 5
}
