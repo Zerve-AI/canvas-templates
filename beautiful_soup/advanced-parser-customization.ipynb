{
 "cells": [
  {
   "cell_type": "code",
   "execution_count": null,
   "id": "8cfd294b",
   "metadata": {},
   "outputs": [],
   "source": [
    "from bs4 import SoupStrainer, BeautifulSoup"
   ]
  },
  {
   "cell_type": "code",
   "execution_count": null,
   "id": "b7a9c0a1",
   "metadata": {},
   "outputs": [],
   "source": [
    "only_a_tags = SoupStrainer(\"a\")\n",
    "\n",
    "only_tags_with_id_link2 = SoupStrainer(id=\"link2\")\n",
    "\n",
    "def is_short_string(string):\n",
    "    return string is not None and len(string) < 10\n",
    "\n",
    "only_short_strings = SoupStrainer(string=is_short_string)\n",
    "\n",
    "html_doc = \"\"\"<html><head><title>The Dormouse's story</title></head>\n",
    "<body>\n",
    "<p class=\"title\"><b>The Dormouse's story</b></p>\n",
    "\n",
    "<p class=\"story\">Once upon a time there were three little sisters; and their names were\n",
    "<a href=\"http://example.com/elsie\" class=\"sister\" id=\"link1\">Elsie</a>,\n",
    "<a href=\"http://example.com/lacie\" class=\"sister\" id=\"link2\">Lacie</a> and\n",
    "<a href=\"http://example.com/tillie\" class=\"sister\" id=\"link3\">Tillie</a>;\n",
    "and they lived at the bottom of a well.</p>\n",
    "\n",
    "<p class=\"story\">...</p>\n",
    "\"\"\"\n",
    "\n",
    "print(BeautifulSoup(html_doc, \"html.parser\", parse_only=only_a_tags).prettify())\n",
    "# <a class=\"sister\" href=\"http://example.com/elsie\" id=\"link1\">\n",
    "#  Elsie\n",
    "# </a>\n",
    "# <a class=\"sister\" href=\"http://example.com/lacie\" id=\"link2\">\n",
    "#  Lacie\n",
    "# </a>\n",
    "# <a class=\"sister\" href=\"http://example.com/tillie\" id=\"link3\">\n",
    "#  Tillie\n",
    "# </a>\n",
    "\n",
    "print(BeautifulSoup(html_doc, \"html.parser\", parse_only=only_tags_with_id_link2).prettify())\n",
    "# <a class=\"sister\" href=\"http://example.com/lacie\" id=\"link2\">\n",
    "#  Lacie\n",
    "# </a>\n",
    "\n",
    "print(BeautifulSoup(html_doc, \"html.parser\", parse_only=only_short_strings).prettify())\n",
    "# Elsie\n",
    "# ,\n",
    "# Lacie\n",
    "# and\n",
    "# Tillie\n",
    "# ...\n",
    "#\n",
    "\n",
    "\n"
   ]
  },
  {
   "cell_type": "code",
   "execution_count": null,
   "id": "aaf3db6c",
   "metadata": {},
   "outputs": [],
   "source": [
    "only_short_strings = SoupStrainer(string=is_short_string)\n",
    "soup = BeautifulSoup(html_doc, 'html.parser')\n",
    "print(soup.find_all(only_short_strings))\n",
    "# ['\\n\\n', '\\n\\n', 'Elsie', ',\\n', 'Lacie', ' and\\n', 'Tillie',\n",
    "#  '\\n\\n', '...', '\\n']"
   ]
  },
  {
   "cell_type": "code",
   "execution_count": null,
   "id": "84e49e46",
   "metadata": {},
   "outputs": [],
   "source": [
    "markup = '<a class=\"cls1 cls2\" id=\"id1 id2\">'\n",
    "soup = BeautifulSoup(markup, 'html.parser')\n",
    "print(soup.a['class'])\n",
    "# ['cls1', 'cls2']\n",
    "print(soup.a['id'])\n",
    "# 'id1 id2'\n",
    "\n"
   ]
  },
  {
   "cell_type": "code",
   "execution_count": null,
   "id": "70e267e2",
   "metadata": {},
   "outputs": [],
   "source": [
    "soup = BeautifulSoup(markup, 'html.parser', multi_valued_attributes=None)\n",
    "print(soup.a['class'])\n",
    "# 'cls1 cls2'\n",
    "print(soup.a['id'])\n",
    "# 'id1 id2'\n",
    "\n"
   ]
  },
  {
   "cell_type": "code",
   "execution_count": null,
   "id": "786af9f6",
   "metadata": {},
   "outputs": [],
   "source": [
    "markup = '<a href=\"http://url1/\" href=\"http://url2/\">'\n",
    "\n"
   ]
  },
  {
   "cell_type": "code",
   "execution_count": null,
   "id": "b2fa1cb9",
   "metadata": {},
   "outputs": [],
   "source": [
    "soup = BeautifulSoup(markup, 'html.parser')\n",
    "print(soup.a['href'])\n",
    "# http://url2/\n",
    "\n",
    "soup = BeautifulSoup(markup, 'html.parser', on_duplicate_attribute='replace')\n",
    "print(soup.a['href'])\n",
    "# http://url2/\n",
    "\n"
   ]
  },
  {
   "cell_type": "code",
   "execution_count": null,
   "id": "9607a375",
   "metadata": {},
   "outputs": [],
   "source": [
    "soup = BeautifulSoup(markup, 'html.parser', on_duplicate_attribute='ignore')\n",
    "print(soup.a['href'])\n",
    "# http://url1/\n",
    "\n"
   ]
  },
  {
   "cell_type": "code",
   "execution_count": null,
   "id": "fd2ce23c",
   "metadata": {},
   "outputs": [],
   "source": [
    "def accumulate(attributes_so_far, key, value):\n",
    "    if not isinstance(attributes_so_far[key], list):\n",
    "        attributes_so_far[key] = [attributes_so_far[key]]\n",
    "    attributes_so_far[key].append(value)\n",
    "\n",
    "soup = BeautifulSoup(markup, 'html.parser', on_duplicate_attribute=accumulate)\n",
    "print(soup.a['href'])\n",
    "# [\"http://url1/\", \"http://url2/\"]\n",
    "\n"
   ]
  },
  {
   "cell_type": "code",
   "execution_count": null,
   "id": "bfb5c4ad",
   "metadata": {},
   "outputs": [],
   "source": [
    "from bs4 import Tag, NavigableString\n",
    "class MyTag(Tag):\n",
    "    pass\n",
    "\n",
    "\n",
    "class MyString(NavigableString):\n",
    "    pass\n",
    "\n",
    "\n",
    "markup = \"<div>some text</div>\"\n",
    "soup = BeautifulSoup(markup, 'html.parser')\n",
    "isinstance(soup.div, MyTag)\n",
    "# False\n",
    "isinstance(soup.div.string, MyString)\n",
    "# False\n",
    "\n",
    "my_classes = { Tag: MyTag, NavigableString: MyString }\n",
    "soup = BeautifulSoup(markup, 'html.parser', element_classes=my_classes)\n",
    "isinstance(soup.div, MyTag)\n",
    "# True\n",
    "isinstance(soup.div.string, MyString)\n",
    "# True\n",
    "\n"
   ]
  }
 ],
 "metadata": {
  "language_info": {
   "name": "python"
  }
 },
 "nbformat": 4,
 "nbformat_minor": 5
}
