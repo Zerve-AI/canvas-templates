{
 "cells": [
  {
   "cell_type": "code",
   "execution_count": null,
   "metadata": {},
   "outputs": [],
   "source": [
    "import numpy as np\n",
    "import seaborn as sns \n",
    "import matplotlib.pyplot as plt"
   ]
  },
  {
   "cell_type": "code",
   "execution_count": null,
   "metadata": {},
   "outputs": [],
   "source": [
    "def plot_errorbars(arg, **kws):\n",
    "    np.random.seed(sum(map(ord, \"error_bars\")))\n",
    "    x = np.random.normal(0, 1, 100)\n",
    "    f, axs = plt.subplots(2, figsize=(7, 2), sharex=True, layout=\"tight\")\n",
    "    sns.pointplot(x=x, errorbar=arg, **kws, capsize=.3, ax=axs[0])\n",
    "    sns.stripplot(x=x, jitter=.3, ax=axs[1])\n",
    "\n",
    "x = np.random.normal(0, 1, 50)\n",
    "y = x * 2 + np.random.normal(0, 2, size=x.size)\n",
    "\n",
    "plot_errorbars(\"sd\")"
   ]
  },
  {
   "cell_type": "code",
   "execution_count": null,
   "metadata": {},
   "outputs": [],
   "source": [
    "plot_errorbars((\"pi\", 50))"
   ]
  },
  {
   "cell_type": "code",
   "execution_count": null,
   "metadata": {},
   "outputs": [],
   "source": [
    "plot_errorbars(\"se\")"
   ]
  },
  {
   "cell_type": "code",
   "execution_count": null,
   "metadata": {},
   "outputs": [],
   "source": [
    "plot_errorbars(\"ci\")"
   ]
  },
  {
   "cell_type": "code",
   "execution_count": null,
   "metadata": {},
   "outputs": [],
   "source": [
    "plot_errorbars((\"se\", 2))"
   ]
  },
  {
   "cell_type": "code",
   "execution_count": null,
   "metadata": {},
   "outputs": [],
   "source": [
    "plot_errorbars(\"ci\", estimator=\"median\")"
   ]
  },
  {
   "cell_type": "code",
   "execution_count": null,
   "metadata": {},
   "outputs": [],
   "source": [
    "plot_errorbars(\"ci\", n_boot=5000, seed=10)"
   ]
  },
  {
   "cell_type": "code",
   "execution_count": null,
   "metadata": {},
   "outputs": [],
   "source": [
    "plot_errorbars(lambda x: (x.min(), x.max()))"
   ]
  },
  {
   "cell_type": "code",
   "execution_count": null,
   "metadata": {},
   "outputs": [],
   "source": [
    "\n",
    "sns.regplot(x=x, y=y)"
   ]
  }
 ],
 "metadata": {
  "language_info": {
   "name": "python"
  },
  "orig_nbformat": 4
 },
 "nbformat": 4,
 "nbformat_minor": 2
}
