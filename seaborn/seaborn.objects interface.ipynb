{
 "cells": [
  {
   "cell_type": "code",
   "execution_count": 1,
   "metadata": {},
   "outputs": [],
   "source": [
    "import seaborn as sns\n",
    "import matplotlib.pyplot as plt\n",
    "import seaborn.objects as so\n",
    "from seaborn import axes_style"
   ]
  },
  {
   "cell_type": "code",
   "execution_count": 5,
   "metadata": {},
   "outputs": [],
   "source": [
    "penguins = sns.load_dataset(\"penguins\")\n",
    "diamonds = sns.load_dataset(\"diamonds\")\n",
    "healthexp = sns.load_dataset(\"healthexp\")\n",
    "tips = sns.load_dataset(\"tips\")\n"
   ]
  },
  {
   "cell_type": "code",
   "execution_count": null,
   "metadata": {},
   "outputs": [],
   "source": [
    "(\n",
    "    so.Plot(penguins, x=\"bill_length_mm\", y=\"bill_depth_mm\")\n",
    "    .add(so.Dot())\n",
    ")"
   ]
  },
  {
   "cell_type": "code",
   "execution_count": null,
   "metadata": {},
   "outputs": [],
   "source": [
    "(\n",
    "    so.Plot(penguins, x=\"bill_length_mm\", y=\"bill_depth_mm\")\n",
    "    .add(so.Dot(color=\"g\", pointsize=4))\n",
    ")"
   ]
  },
  {
   "cell_type": "code",
   "execution_count": null,
   "metadata": {},
   "outputs": [],
   "source": [
    "(\n",
    "    so.Plot(\n",
    "        penguins, x=\"bill_length_mm\", y=\"bill_depth_mm\",\n",
    "        color=\"species\", pointsize=\"body_mass_g\",\n",
    "    )\n",
    "    .add(so.Dot())\n",
    ")"
   ]
  },
  {
   "cell_type": "code",
   "execution_count": null,
   "metadata": {},
   "outputs": [],
   "source": [
    "(\n",
    "    so.Plot(\n",
    "        penguins, x=\"bill_length_mm\", y=\"bill_depth_mm\",\n",
    "        edgecolor=\"sex\", edgewidth=\"body_mass_g\",\n",
    "    )\n",
    "    .add(so.Dot(color=\".8\"))\n",
    ")"
   ]
  },
  {
   "cell_type": "code",
   "execution_count": null,
   "metadata": {},
   "outputs": [],
   "source": [
    "(\n",
    "    so.Plot(healthexp, x=\"Year\", y=\"Life_Expectancy\", color=\"Country\")\n",
    "    .add(so.Line())\n",
    ")"
   ]
  },
  {
   "cell_type": "code",
   "execution_count": null,
   "metadata": {},
   "outputs": [],
   "source": [
    "(\n",
    "    so.Plot(healthexp, x=\"Year\", y=\"Life_Expectancy\", group=\"Country\")\n",
    "    .add(so.Line())\n",
    ")"
   ]
  },
  {
   "cell_type": "code",
   "execution_count": null,
   "metadata": {},
   "outputs": [],
   "source": [
    "(\n",
    "    so.Plot(penguins, x=\"species\", y=\"body_mass_g\")\n",
    "    .add(so.Bar(), so.Agg())\n",
    ")"
   ]
  },
  {
   "cell_type": "code",
   "execution_count": null,
   "metadata": {},
   "outputs": [],
   "source": [
    "(\n",
    "    so.Plot(penguins, x=\"species\", y=\"body_mass_g\")\n",
    "    .add(so.Dot(pointsize=10), so.Agg())\n",
    ")"
   ]
  },
  {
   "cell_type": "code",
   "execution_count": null,
   "metadata": {},
   "outputs": [],
   "source": [
    "(\n",
    "    so.Plot(penguins, x=\"species\", y=\"body_mass_g\", color=\"sex\")\n",
    "    .add(so.Dot(pointsize=10), so.Agg())\n",
    ")"
   ]
  },
  {
   "cell_type": "code",
   "execution_count": null,
   "metadata": {},
   "outputs": [],
   "source": [
    "(\n",
    "    so.Plot(penguins, x=\"species\", y=\"body_mass_g\", color=\"sex\")\n",
    "    .add(so.Bar(), so.Agg())\n",
    ")"
   ]
  },
  {
   "cell_type": "code",
   "execution_count": null,
   "metadata": {},
   "outputs": [],
   "source": [
    "(\n",
    "    so.Plot(penguins, x=\"species\", y=\"body_mass_g\", color=\"sex\")\n",
    "    .add(so.Bar(), so.Agg(), so.Dodge())\n",
    ")"
   ]
  },
  {
   "cell_type": "code",
   "execution_count": null,
   "metadata": {},
   "outputs": [],
   "source": [
    "(\n",
    "    so.Plot(penguins, x=\"species\", y=\"body_mass_g\", color=\"sex\")\n",
    "    .add(so.Dot(), so.Dodge())\n",
    ")"
   ]
  },
  {
   "cell_type": "code",
   "execution_count": null,
   "metadata": {},
   "outputs": [],
   "source": [
    "(\n",
    "    so.Plot(penguins, x=\"species\", y=\"body_mass_g\", color=\"sex\")\n",
    "    .add(so.Dot(), so.Dodge(), so.Jitter(.3))\n",
    ")"
   ]
  },
  {
   "cell_type": "code",
   "execution_count": null,
   "metadata": {},
   "outputs": [],
   "source": [
    "(\n",
    "    so.Plot(penguins, x=\"species\")\n",
    "    .add(so.Bar(), so.Hist())\n",
    ")"
   ]
  },
  {
   "cell_type": "code",
   "execution_count": null,
   "metadata": {},
   "outputs": [],
   "source": [
    "(\n",
    "    so.Plot(penguins, x=\"flipper_length_mm\")\n",
    "    .add(so.Bars(), so.Hist())\n",
    ")"
   ]
  },
  {
   "cell_type": "code",
   "execution_count": null,
   "metadata": {},
   "outputs": [],
   "source": [
    "(\n",
    "    so.Plot(penguins, x=\"body_mass_g\", y=\"species\", color=\"sex\")\n",
    "    .add(so.Range(), so.Est(errorbar=\"sd\"), so.Dodge())\n",
    "    .add(so.Dot(), so.Agg(), so.Dodge())\n",
    ")"
   ]
  },
  {
   "cell_type": "code",
   "execution_count": null,
   "metadata": {},
   "outputs": [],
   "source": [
    "(\n",
    "    so.Plot(penguins, x=\"body_mass_g\", y=\"species\", color=\"sex\")\n",
    "    .add(so.Bar(), so.Agg(), so.Dodge())\n",
    ")"
   ]
  },
  {
   "cell_type": "code",
   "execution_count": null,
   "metadata": {},
   "outputs": [],
   "source": [
    "(\n",
    "    so.Plot(tips, x=\"total_bill\", y=\"size\", color=\"time\")\n",
    "    .add(so.Bar(), so.Agg(), so.Dodge(), orient=\"y\")\n",
    ")"
   ]
  },
  {
   "cell_type": "code",
   "execution_count": null,
   "metadata": {},
   "outputs": [],
   "source": [
    "(\n",
    "    so.Plot(tips, x=\"total_bill\", y=\"tip\")\n",
    "    .add(so.Dots())\n",
    "    .add(so.Line(), so.PolyFit())\n",
    ")"
   ]
  },
  {
   "cell_type": "code",
   "execution_count": null,
   "metadata": {},
   "outputs": [],
   "source": [
    "(\n",
    "    so.Plot(tips, x=\"total_bill\", y=\"tip\", color=\"time\")\n",
    "    .add(so.Dots())\n",
    "    .add(so.Line(), so.PolyFit())\n",
    ")"
   ]
  },
  {
   "cell_type": "code",
   "execution_count": null,
   "metadata": {},
   "outputs": [],
   "source": [
    "(\n",
    "    so.Plot(tips, x=\"total_bill\", y=\"tip\")\n",
    "    .add(so.Dots(), color=\"time\")\n",
    "    .add(so.Line(color=\".2\"), so.PolyFit())\n",
    ")"
   ]
  },
  {
   "cell_type": "code",
   "execution_count": null,
   "metadata": {},
   "outputs": [],
   "source": [
    "(\n",
    "    so.Plot(tips, x=\"total_bill\", y=\"tip\", color=\"time\")\n",
    "    .add(so.Dots())\n",
    "    .add(so.Line(color=\".2\"), so.PolyFit(), color=None)\n",
    ")"
   ]
  },
  {
   "cell_type": "code",
   "execution_count": null,
   "metadata": {},
   "outputs": [],
   "source": [
    "(\n",
    "    so.Plot(penguins, x=\"flipper_length_mm\")\n",
    "    .facet(\"species\")\n",
    "    .add(so.Bars(), so.Hist())\n",
    ")"
   ]
  },
  {
   "cell_type": "code",
   "execution_count": null,
   "metadata": {},
   "outputs": [],
   "source": [
    "(\n",
    "    so.Plot(penguins, x=\"flipper_length_mm\")\n",
    "    .facet(col=\"species\", row=\"sex\")\n",
    "    .add(so.Bars(), so.Hist())\n",
    ")"
   ]
  },
  {
   "cell_type": "code",
   "execution_count": null,
   "metadata": {},
   "outputs": [],
   "source": [
    "(\n",
    "    so.Plot(healthexp, x=\"Year\", y=\"Life_Expectancy\")\n",
    "    .facet(col=\"Country\", wrap=3)\n",
    "    .add(so.Line())\n",
    ")"
   ]
  },
  {
   "cell_type": "code",
   "execution_count": null,
   "metadata": {},
   "outputs": [],
   "source": [
    "(\n",
    "    so.Plot(healthexp, x=\"Year\", y=\"Life_Expectancy\")\n",
    "    .facet(\"Country\", wrap=3)\n",
    "    .add(so.Line(alpha=.3), group=\"Country\", col=None)\n",
    "    .add(so.Line(linewidth=3))\n",
    ")"
   ]
  },
  {
   "cell_type": "code",
   "execution_count": null,
   "metadata": {},
   "outputs": [],
   "source": [
    "(\n",
    "    so.Plot(penguins, y=\"body_mass_g\", color=\"species\")\n",
    "    .pair(x=[\"bill_length_mm\", \"bill_depth_mm\"])\n",
    "    .add(so.Dots())\n",
    ")"
   ]
  },
  {
   "cell_type": "code",
   "execution_count": null,
   "metadata": {},
   "outputs": [],
   "source": [
    "(\n",
    "    so.Plot(penguins, y=\"body_mass_g\", color=\"species\")\n",
    "    .pair(x=[\"bill_length_mm\", \"bill_depth_mm\"])\n",
    "    .facet(row=\"sex\")\n",
    "    .add(so.Dots())\n",
    ")"
   ]
  },
  {
   "cell_type": "code",
   "execution_count": null,
   "metadata": {},
   "outputs": [],
   "source": [
    "p = so.Plot(healthexp, \"Year\", \"Spending_USD\", color=\"Country\")\n",
    "p.add(so.Line())\n",
    "p.add(so.Area(), so.Stack())"
   ]
  },
  {
   "cell_type": "code",
   "execution_count": null,
   "metadata": {},
   "outputs": [],
   "source": [
    "(\n",
    "    so.Plot(diamonds, x=\"carat\", y=\"price\")\n",
    "    .add(so.Dots())\n",
    "    .scale(y=\"log\")\n",
    ")"
   ]
  },
  {
   "cell_type": "code",
   "execution_count": null,
   "metadata": {},
   "outputs": [],
   "source": [
    "(\n",
    "    so.Plot(diamonds, x=\"carat\", y=\"price\", color=\"clarity\")\n",
    "    .add(so.Dots())\n",
    "    .scale(color=\"flare\")\n",
    ")"
   ]
  },
  {
   "cell_type": "code",
   "execution_count": null,
   "metadata": {},
   "outputs": [],
   "source": [
    "(\n",
    "    so.Plot(diamonds, x=\"carat\", y=\"price\", color=\"clarity\", pointsize=\"carat\")\n",
    "    .add(so.Dots())\n",
    "    .scale(color=(\"#88c\", \"#555\"), pointsize=(2, 10))\n",
    ")"
   ]
  },
  {
   "cell_type": "code",
   "execution_count": null,
   "metadata": {},
   "outputs": [],
   "source": [
    "(\n",
    "    so.Plot(diamonds, x=\"carat\", y=\"price\", color=\"carat\", marker=\"cut\")\n",
    "    .add(so.Dots())\n",
    "    .scale(\n",
    "        color=so.Continuous(\"crest\", norm=(0, 3), trans=\"sqrt\"),\n",
    "        marker=so.Nominal([\"o\", \"+\", \"x\"], order=[\"Ideal\", \"Premium\", \"Good\"]),\n",
    "    )\n",
    ")"
   ]
  },
  {
   "cell_type": "code",
   "execution_count": null,
   "metadata": {},
   "outputs": [],
   "source": [
    "(\n",
    "    so.Plot(diamonds, x=\"carat\", y=\"price\", color=\"carat\")\n",
    "    .add(so.Dots())\n",
    "    .scale(\n",
    "        x=so.Continuous().tick(every=0.5),\n",
    "        y=so.Continuous().label(like=\"${x:.0f}\"),\n",
    "        color=so.Continuous().tick(at=[1, 2, 3, 4]),\n",
    "    )\n",
    ")"
   ]
  },
  {
   "cell_type": "code",
   "execution_count": null,
   "metadata": {},
   "outputs": [],
   "source": [
    "(\n",
    "    so.Plot(penguins, x=\"body_mass_g\", y=\"species\", color=\"island\")\n",
    "    .facet(col=\"sex\")\n",
    "    .add(so.Dot(), so.Jitter(.5))\n",
    "    .share(x=False)\n",
    "    .limit(y=(2.5, -.5))\n",
    "    .label(\n",
    "        x=\"Body mass (g)\", y=\"\",\n",
    "        color=str.capitalize,\n",
    "        title=\"{} penguins\".format,\n",
    "    )\n",
    ")"
   ]
  },
  {
   "cell_type": "code",
   "execution_count": null,
   "metadata": {},
   "outputs": [],
   "source": [
    "so.Plot().theme({**axes_style(\"whitegrid\"), \"grid.linestyle\": \":\"})"
   ]
  }
 ],
 "metadata": {
  "kernelspec": {
   "display_name": "can_temp",
   "language": "python",
   "name": "python3"
  },
  "language_info": {
   "codemirror_mode": {
    "name": "ipython",
    "version": 3
   },
   "file_extension": ".py",
   "mimetype": "text/x-python",
   "name": "python",
   "nbconvert_exporter": "python",
   "pygments_lexer": "ipython3",
   "version": "3.9.16"
  },
  "orig_nbformat": 4
 },
 "nbformat": 4,
 "nbformat_minor": 2
}
