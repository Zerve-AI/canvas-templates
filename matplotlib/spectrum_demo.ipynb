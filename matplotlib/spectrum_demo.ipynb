{
  "cells": [
    {
      "cell_type": "code",
      "execution_count": null,
      "metadata": {
        "collapsed": false
      },
      "outputs": [],
      "source": [
        "%matplotlib inline"
      ]
    },
    {
      "cell_type": "markdown",
      "metadata": {},
      "source": [
        "\n# Spectrum Representations\n\nThe plots show different spectrum representations of a sine signal with\nadditive noise. A (frequency) spectrum of a discrete-time signal is calculated\nby utilizing the fast Fourier transform (FFT).\n"
      ]
    },
    {
      "cell_type": "code",
      "execution_count": null,
      "metadata": {
        "collapsed": false
      },
      "outputs": [],
      "source": [
        "import matplotlib.pyplot as plt\nimport numpy as np\n\n\nnp.random.seed(0)\n\ndt = 0.01  # sampling interval\nFs = 1 / dt  # sampling frequency\nt = np.arange(0, 10, dt)\n\n# generate noise:\nnse = np.random.randn(len(t))\nr = np.exp(-t / 0.05)\ncnse = np.convolve(nse, r) * dt\ncnse = cnse[:len(t)]\n\ns = 0.1 * np.sin(4 * np.pi * t) + cnse  # the signal\n\nfig, axs = plt.subplots(nrows=3, ncols=2, figsize=(7, 7))\n\n# plot time signal:\naxs[0, 0].set_title(\"Signal\")\naxs[0, 0].plot(t, s, color='C0')\naxs[0, 0].set_xlabel(\"Time\")\naxs[0, 0].set_ylabel(\"Amplitude\")\n\n# plot different spectrum types:\naxs[1, 0].set_title(\"Magnitude Spectrum\")\naxs[1, 0].magnitude_spectrum(s, Fs=Fs, color='C1')\n\naxs[1, 1].set_title(\"Log. Magnitude Spectrum\")\naxs[1, 1].magnitude_spectrum(s, Fs=Fs, scale='dB', color='C1')\n\naxs[2, 0].set_title(\"Phase Spectrum \")\naxs[2, 0].phase_spectrum(s, Fs=Fs, color='C2')\n\naxs[2, 1].set_title(\"Angle Spectrum\")\naxs[2, 1].angle_spectrum(s, Fs=Fs, color='C2')\n\naxs[0, 1].remove()  # don't display empty ax\n\nfig.tight_layout()\nplt.show()"
      ]
    }
  ],
  "metadata": {
    "kernelspec": {
      "display_name": "Python 3",
      "language": "python",
      "name": "python3"
    },
    "language_info": {
      "codemirror_mode": {
        "name": "ipython",
        "version": 3
      },
      "file_extension": ".py",
      "mimetype": "text/x-python",
      "name": "python",
      "nbconvert_exporter": "python",
      "pygments_lexer": "ipython3",
      "version": "3.11.1"
    }
  },
  "nbformat": 4,
  "nbformat_minor": 0
}