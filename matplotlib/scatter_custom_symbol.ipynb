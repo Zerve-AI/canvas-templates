{
  "cells": [
    {
      "cell_type": "code",
      "execution_count": null,
      "metadata": {
        "collapsed": false
      },
      "outputs": [],
      "source": [
        "%matplotlib inline"
      ]
    },
    {
      "cell_type": "markdown",
      "metadata": {},
      "source": [
        "\n# Scatter plots with custom symbols\n\n.. redirect-from:: /gallery/lines_bars_and_markers/scatter_symbol\n.. redirect-from:: /gallery/lines_bars_and_markers/scatter_piecharts\n"
      ]
    },
    {
      "cell_type": "markdown",
      "metadata": {},
      "source": [
        "## Using TeX symbols\nAn easy way to customize scatter symbols is passing a TeX symbol name\nenclosed in $-signs as a marker. Below we use ``marker=r'$\\clubsuit$'``.\n\n"
      ]
    },
    {
      "cell_type": "code",
      "execution_count": null,
      "metadata": {
        "collapsed": false
      },
      "outputs": [],
      "source": [
        "import matplotlib.pyplot as plt\nimport numpy as np\n\n# Fixing random state for reproducibility\nnp.random.seed(19680801)\n\n\nx = np.arange(0.0, 50.0, 2.0)\ny = x ** 1.3 + np.random.rand(*x.shape) * 30.0\nsizes = np.random.rand(*x.shape) * 800 + 500\n\nfig, ax = plt.subplots()\nax.scatter(x, y, sizes, c=\"green\", alpha=0.5, marker=r'$\\clubsuit$',\n           label=\"Luck\")\nax.set_xlabel(\"Leprechauns\")\nax.set_ylabel(\"Gold\")\nax.legend()\nplt.show()"
      ]
    },
    {
      "cell_type": "markdown",
      "metadata": {},
      "source": [
        "## Using a custom path\nAlternatively, one can also pass a custom path of N vertices as a Nx2 array\nof x, y values as *marker*.\n\n"
      ]
    },
    {
      "cell_type": "code",
      "execution_count": null,
      "metadata": {
        "collapsed": false
      },
      "outputs": [],
      "source": [
        "# unit area ellipse\nrx, ry = 3., 1.\narea = rx * ry * np.pi\ntheta = np.arange(0, 2 * np.pi + 0.01, 0.1)\nverts = np.column_stack([rx / area * np.cos(theta), ry / area * np.sin(theta)])\n\nx, y, s, c = np.random.rand(4, 30)\ns *= 10**2.\n\nfig, ax = plt.subplots()\nax.scatter(x, y, s, c, marker=verts)\n\nplt.show()"
      ]
    }
  ],
  "metadata": {
    "kernelspec": {
      "display_name": "Python 3",
      "language": "python",
      "name": "python3"
    },
    "language_info": {
      "codemirror_mode": {
        "name": "ipython",
        "version": 3
      },
      "file_extension": ".py",
      "mimetype": "text/x-python",
      "name": "python",
      "nbconvert_exporter": "python",
      "pygments_lexer": "ipython3",
      "version": "3.11.1"
    }
  },
  "nbformat": 4,
  "nbformat_minor": 0
}